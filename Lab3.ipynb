{
  "nbformat": 4,
  "nbformat_minor": 0,
  "metadata": {
    "colab": {
      "provenance": [],
      "include_colab_link": true
    },
    "kernelspec": {
      "name": "python3",
      "display_name": "Python 3"
    },
    "language_info": {
      "name": "python"
    }
  },
  "cells": [
    {
      "cell_type": "markdown",
      "metadata": {
        "id": "view-in-github",
        "colab_type": "text"
      },
      "source": [
        "<a href=\"https://colab.research.google.com/github/suphakan111/pythonlab3/blob/main/Lab3.ipynb\" target=\"_parent\"><img src=\"https://colab.research.google.com/assets/colab-badge.svg\" alt=\"Open In Colab\"/></a>"
      ]
    },
    {
      "cell_type": "markdown",
      "source": [
        "# Exercise 3\n",
        "\n",
        "3.1 จากข้อมูลใน List ให้หาผลบวกเฉพาะตัวเลขคู่ โดยใช้ While Loop\n",
        "\n",
        "list1 = [1, 2, 3, 4, 5, 6, 7, 8, 9, 11, 13]\n",
        "\n"
      ],
      "metadata": {
        "id": "8LZVzcOUVMor"
      }
    },
    {
      "cell_type": "code",
      "execution_count": null,
      "metadata": {
        "id": "2cTrxjMXUE2n",
        "outputId": "fec58dfb-54d7-424e-86f3-d8821555d5c6",
        "colab": {
          "base_uri": "https://localhost:8080/"
        }
      },
      "outputs": [
        {
          "output_type": "stream",
          "name": "stdout",
          "text": [
            "20\n"
          ]
        }
      ],
      "source": [
        "list1 = [1, 2, 3, 4, 5, 6, 7, 8, 9, 11, 13]\n",
        "i = 0\n",
        "sum = 0\n",
        "while i < len(list1):\n",
        "  if list1[i] % 2 == 0:\n",
        "    sum += list1[i]\n",
        "  i += 1\n",
        "print(sum)"
      ]
    },
    {
      "cell_type": "markdown",
      "source": [
        "3.2 จากข้อมูลใน List ให้หาตัวเลขที่มีค่ามากที่สุดเป็นอันดับ 2 ใน List โดยใช้ While Loop\n",
        "\n",
        "list = [-5, 7, 10, 1, 2, 5, 8, 100]\n"
      ],
      "metadata": {
        "id": "uPvbrsO_Vimb"
      }
    },
    {
      "cell_type": "code",
      "source": [
        "list = [-5, 7, 10, 1, 2, 5, 8, 100]\n",
        "max = 0\n",
        "max_nd =0\n",
        "i = 0\n",
        "while i < len(list):\n",
        "  if list[i] > max:\n",
        "        max_nd = max\n",
        "        max = list[i]\n",
        "  i+=1\n",
        "\n",
        "print(max_nd)"
      ],
      "metadata": {
        "id": "iUeJ91zfVr1Z",
        "colab": {
          "base_uri": "https://localhost:8080/"
        },
        "outputId": "9e896ac4-f604-4ee5-f794-f52bafcfcb9b"
      },
      "execution_count": null,
      "outputs": [
        {
          "output_type": "stream",
          "name": "stdout",
          "text": [
            "10\n"
          ]
        }
      ]
    },
    {
      "cell_type": "markdown",
      "source": [
        "3.3 เขียนโปรแกรมรับค่า n แล้วคำนวณค่าต่อไปนี้\n",
        "\n",
        "$1/1^2 + 1/2^2 + 1/3^2 + 1/4^2 + 1/5^2 + … +  1/n^2$\n"
      ],
      "metadata": {
        "id": "udBZzWe9VsU7"
      }
    },
    {
      "cell_type": "code",
      "source": [
        "input = 7\n",
        "sum = 0\n",
        "num = 0\n",
        "for i in range(1,input+1):\n",
        "  sum = 1/(i**2)\n",
        "  num += sum\n",
        "print(round(num,2))"
      ],
      "metadata": {
        "id": "xtBw7zuxWEZ4",
        "colab": {
          "base_uri": "https://localhost:8080/"
        },
        "outputId": "b5494980-5b7c-496f-b645-601ad8703ea0"
      },
      "execution_count": null,
      "outputs": [
        {
          "output_type": "stream",
          "name": "stdout",
          "text": [
            "1.51\n"
          ]
        }
      ]
    },
    {
      "cell_type": "markdown",
      "source": [
        "3.4 จากข้อมูลใน List ให้ตรวจสอบว่า ข้อมูลในลิสต์ s เรียงลำดับจากน้อยไปมากหรือไม่ ตอบเป็น True, False\n",
        "\n",
        "\t[1,2,3,4,5], [5,4,3,2,1]\n"
      ],
      "metadata": {
        "id": "o-6AnE5zWFJJ"
      }
    },
    {
      "cell_type": "code",
      "source": [
        "lists = [1,2,3,4,5], [5,4,3,2,1]\n",
        "if lists[0][0] <  lists[0][1] < lists[0][2] <  lists[0][3]:\n",
        "  print('True')\n",
        "else:\n",
        "  print('false')\n",
        "if lists[1][0] <  lists[1][1] < lists[1][2] <  lists[1][3]:\n",
        "  print('True')\n",
        "else:\n",
        "  print('False')"
      ],
      "metadata": {
        "id": "LYG2sGGgWNei",
        "colab": {
          "base_uri": "https://localhost:8080/"
        },
        "outputId": "1c207ac0-d3d3-4259-98ee-c10b41bda3dd"
      },
      "execution_count": null,
      "outputs": [
        {
          "output_type": "stream",
          "name": "stdout",
          "text": [
            "True\n",
            "False\n"
          ]
        }
      ]
    },
    {
      "cell_type": "markdown",
      "source": [
        "3.5  ให้ x เป็นลิสต์เก็บคะแนน ต้องการปรับช่องที่มีค่าน้อยกว่า 30 ให้มีค่าเพิ่มอีก 10% แสดงผลลัพธ์ เป็น List\n",
        "\n",
        "\tx = [60, 70, 72, 65, 55, 43, 20, 90, 12]\n"
      ],
      "metadata": {
        "id": "Hv-fE32hWOBd"
      }
    },
    {
      "cell_type": "code",
      "source": [
        "x = [60, 70, 72, 65, 55, 43, 20, 90, 12]\n",
        "for i in range(len(x)):\n",
        "  if x[i] < 30 :\n",
        "    x[i] += x[i]*(10/100)\n",
        "print(x)"
      ],
      "metadata": {
        "id": "BSFOJ_8GWTtL",
        "colab": {
          "base_uri": "https://localhost:8080/"
        },
        "outputId": "64e73059-83db-475a-a435-e51337a7d0e9"
      },
      "execution_count": null,
      "outputs": [
        {
          "output_type": "stream",
          "name": "stdout",
          "text": [
            "[60, 70, 72, 65, 55, 43, 22.0, 90, 13.2]\n"
          ]
        }
      ]
    },
    {
      "cell_type": "markdown",
      "source": [
        "3.6 ต้องการหาผลรวมของคะแนนที่เก็บในลิสต์ x โดยขอไม่รวมคะแนนที่น้อยสุดอันดับ 2\n",
        "\n",
        "\tx = [15, 80, 75, 62, 55, 43, 99, 67, 10]\n"
      ],
      "metadata": {
        "id": "IDw88nQbWUTw"
      }
    },
    {
      "cell_type": "code",
      "source": [
        "list = [15, 80, 75, 62, 55, 43, 99, 67, 10]\n",
        "max = 5000\n",
        "max_nd = 4999\n",
        "sumlst = 0\n",
        "i = 0\n",
        "while i < len(list):\n",
        "  sumlst += list[i]\n",
        "  if list[i] <max:\n",
        "    max_nd =max\n",
        "    max = list[i]\n",
        "  i+=1\n",
        "print(\"เลขน้อยอันดับสอง = \",max_nd)\n",
        "sumlst = sumlst -max_nd\n",
        "\n",
        "print(\"sum_list = \",sumlst)"
      ],
      "metadata": {
        "id": "Aool1F22WZKI",
        "colab": {
          "base_uri": "https://localhost:8080/"
        },
        "outputId": "4fd77ec3-fa31-445d-b3f8-a9542056defd"
      },
      "execution_count": null,
      "outputs": [
        {
          "output_type": "stream",
          "name": "stdout",
          "text": [
            "เลขน้อยอันดับสอง =  15\n",
            "sum_list =  491\n"
          ]
        }
      ]
    },
    {
      "cell_type": "markdown",
      "source": [
        "3.7 จากข้อมูลใน List ให้แสดง string ที่มีความยาวมากกว่า 2 และมีอักษรตัวแรกกับตัวสุดท้ายเหมือนกัน แสดงบรรทัดละ 1 ตัว\n",
        "\n",
        "\tlst = ['abba', 'a', 'aa', 'alcaza', 'python', 'stores', 'program', 'execute']\n"
      ],
      "metadata": {
        "id": "92oZ0IQdWZkF"
      }
    },
    {
      "cell_type": "code",
      "source": [
        "lst = ['abba', 'a', 'aa', 'alcaza', 'python', 'stores', 'program', 'execute']\n",
        "for i in range(len(lst)):\n",
        "    if len(lst[i]) > 2 and lst[i][0]==lst[i][-1]:\n",
        "      print(lst[i])"
      ],
      "metadata": {
        "id": "i3vr0x1vWiHH",
        "colab": {
          "base_uri": "https://localhost:8080/"
        },
        "outputId": "5eef08bd-230d-4315-ceff-3475c626cb69"
      },
      "execution_count": null,
      "outputs": [
        {
          "output_type": "stream",
          "name": "stdout",
          "text": [
            "abba\n",
            "alcaza\n",
            "stores\n",
            "execute\n"
          ]
        }
      ]
    },
    {
      "cell_type": "markdown",
      "source": [
        "3.8 จากข้อมูลใน List ให้ลบข้อมูลที่มีซ้ำกันให้เหลือเพียงตัวเดียว ให้แสดงผลเป็น list เช่น\n",
        "\n",
        "[‘a’,’a’] => [‘a’]\n",
        "\n",
        "lst = ['a', 'a', 'b', 'a', 'b', 'c', 'd']"
      ],
      "metadata": {
        "id": "NdWwEaeORnje"
      }
    },
    {
      "cell_type": "code",
      "source": [
        "lst = ['a', 'a', 'b', 'a', 'b', 'c', 'd']\n",
        "sum = []\n",
        "num = 0\n",
        "for i in range(1,len(lst)):\n",
        "    if lst[i] not in sum :\n",
        "      sum.append(lst[i])\n",
        "print(sum)"
      ],
      "metadata": {
        "id": "saXxuMceWzd2",
        "colab": {
          "base_uri": "https://localhost:8080/"
        },
        "outputId": "251507a2-4ee6-4e62-9840-7725c9e5b4a9"
      },
      "execution_count": null,
      "outputs": [
        {
          "output_type": "stream",
          "name": "stdout",
          "text": [
            "['a', 'b', 'c', 'd']\n"
          ]
        }
      ]
    },
    {
      "cell_type": "markdown",
      "source": [
        "3.9 จากข้อมูลใน List ให้แสดงว่าแต่ละข้อมูลใน List มีจำนวนเท่าไร คือ มีซ้ำกันกี่ตัวใน List  ให้แสดงบรรทัดละตัว เช่น\n",
        "\n",
        "\t[1, 2, 3, 4, 1, 2, 3, 1, 2, 1]\n",
        "\t1 = 4\n",
        "\t2 = 3\n",
        "\t3 = 2\n",
        "\t4 = 1\n",
        "  \n",
        "\tlst = [1,2,3,4,5,1,2,3,4,1,2,3,1,2,1]"
      ],
      "metadata": {
        "id": "Dl6OEM9nWz8s"
      }
    },
    {
      "cell_type": "code",
      "source": [
        "lst = [1,2,3,4,5,1,2,3,4,1,2,3,1,2,1]\n",
        "sum1 = 0\n",
        "sum2 = 0\n",
        "sum3 = 0\n",
        "sum4 = 0\n",
        "sum5 = 0\n",
        "for i in range(len(lst)):\n",
        "  if lst[i] == 1:\n",
        "    sum1 +=1\n",
        "  elif lst[i] == 2:\n",
        "    sum2 +=1\n",
        "  elif lst[i] == 3:\n",
        "    sum3 +=1\n",
        "  elif lst[i] == 4:\n",
        "    sum4 +=1\n",
        "  elif lst[i] == 5:\n",
        "    sum5 +=1\n",
        "print(f'1 = {sum1}')\n",
        "print(f'2 = {sum2}')\n",
        "print(f'3 = {sum3}')\n",
        "print(f'4 = {sum4}')\n",
        "print(f'5 = {sum5}')"
      ],
      "metadata": {
        "id": "Dm0dAivtW7vQ",
        "colab": {
          "base_uri": "https://localhost:8080/"
        },
        "outputId": "63241a92-bfb1-47bf-fa50-1d6f5e48470c"
      },
      "execution_count": null,
      "outputs": [
        {
          "output_type": "stream",
          "name": "stdout",
          "text": [
            "1 = 5\n",
            "2 = 4\n",
            "3 = 3\n",
            "4 = 2\n",
            "5 = 1\n"
          ]
        }
      ]
    },
    {
      "cell_type": "markdown",
      "source": [
        "1.\tเขียนโปรแกรมเพื่อหาผลบวกของอนุกรม 5+10+15+20+… จนถึง n เมื่อ n เป็นตัวเลขที่รับเข้ามาทางคีย์บอร์ด"
      ],
      "metadata": {
        "id": "GgbgWOV6W8Nn"
      }
    },
    {
      "cell_type": "code",
      "source": [
        "input = 5\n",
        "sum = 0\n",
        "num= 0\n",
        "for i in range(1,input+1):\n",
        "  sum = input*i\n",
        "  num += sum\n",
        "print(num)\n"
      ],
      "metadata": {
        "id": "9cCHZsLhXGKm",
        "outputId": "b7e1c2be-5959-4eac-c3f7-3acae85948a4",
        "colab": {
          "base_uri": "https://localhost:8080/"
        }
      },
      "execution_count": null,
      "outputs": [
        {
          "output_type": "stream",
          "name": "stdout",
          "text": [
            "75\n"
          ]
        }
      ]
    },
    {
      "cell_type": "markdown",
      "source": [
        "2.\tจงเขียนโปรแกรมที่จะหาตัวเลขระหว่าง 2000-3200 ที่หารด้วย 7 ลงตัว แต่หารด้วย 5 ไม่ลงตัว\n",
        "การแสดงผลให้แสดงตัวเลขและคั่นด้วยเครื่องหมาย , ในบรรทัดเดียว\n",
        "\n",
        "2002,2009,2016,2023,2037,2044,2051,2058,2072,2079,2086,2093,2107,2114,2121,2128,2142,2149,2156,2163,2177,2184,2191,2198,2212,2219,2226,2233,2247,2254,2261,2268,2282,2289,2296,2303,2317,2324,2331,2338,2352,2359,2366,2373,2387,2394,2401,2408,2422,2429,2436,2443,2457,2464,2471,2478,2492,2499,2506,2513,2527,2534,2541,2548,2562,2569,2576,2583,2597,2604,2611,2618,2632,2639,2646,2653,2667,2674,2681,2688,2702,2709,2716,2723,2737,2744,2751,2758,2772,2779,2786,2793,2807,2814,2821,2828,2842,2849,2856,2863,2877,2884,2891,2898,2912,2919,2926,2933,2947,2954,2961,2968,2982,2989,2996,3003,3017,3024,3031,3038,3052,3059,3066,3073,3087,3094,3101,3108,3122,3129,3136,3143,3157,3164,3171,3178,3192,3199,"
      ],
      "metadata": {
        "id": "aujapFNTXGsV"
      }
    },
    {
      "cell_type": "code",
      "source": [
        "x = 3200\n",
        "for i in range(2000,x+1):\n",
        "  if i % 7 == 0 and i % 5 != 0 :\n",
        "    print(i, end=',')"
      ],
      "metadata": {
        "id": "L-kIF3-nXJqR",
        "outputId": "f8000723-3183-4402-f147-51c67e6d5152",
        "colab": {
          "base_uri": "https://localhost:8080/"
        }
      },
      "execution_count": null,
      "outputs": [
        {
          "output_type": "stream",
          "name": "stdout",
          "text": [
            "2002,2009,2016,2023,2037,2044,2051,2058,2072,2079,2086,2093,2107,2114,2121,2128,2142,2149,2156,2163,2177,2184,2191,2198,2212,2219,2226,2233,2247,2254,2261,2268,2282,2289,2296,2303,2317,2324,2331,2338,2352,2359,2366,2373,2387,2394,2401,2408,2422,2429,2436,2443,2457,2464,2471,2478,2492,2499,2506,2513,2527,2534,2541,2548,2562,2569,2576,2583,2597,2604,2611,2618,2632,2639,2646,2653,2667,2674,2681,2688,2702,2709,2716,2723,2737,2744,2751,2758,2772,2779,2786,2793,2807,2814,2821,2828,2842,2849,2856,2863,2877,2884,2891,2898,2912,2919,2926,2933,2947,2954,2961,2968,2982,2989,2996,3003,3017,3024,3031,3038,3052,3059,3066,3073,3087,3094,3101,3108,3122,3129,3136,3143,3157,3164,3171,3178,3192,3199,"
          ]
        }
      ]
    },
    {
      "cell_type": "markdown",
      "source": [
        "3.\tจากข้อมูลใน List ต้องการนับว่า มีข้อมูลกี่คู่ในลิสต์ที่ตัวทางซ้ายมีค่ามากกว่าตัวทางขวา (ไม่จำเป็นต้องอยู่ติดกัน)\n",
        "\n",
        "x = [1, 5, 4, 2, 1]"
      ],
      "metadata": {
        "id": "FCZpmtuFXKUl"
      }
    },
    {
      "cell_type": "code",
      "source": [
        "x = [1, 5, 4, 2, 1]\n",
        "sum=0\n",
        "for i in range(len(x)):\n",
        "  for j in range(i+1,len(x)):\n",
        "    if x[i]>x[j]:\n",
        "      sum+=1\n",
        "print(sum)"
      ],
      "metadata": {
        "id": "VBgfWEXuXjQH",
        "outputId": "599d0fac-995b-4d22-f224-132e80c8f1cb",
        "colab": {
          "base_uri": "https://localhost:8080/"
        }
      },
      "execution_count": null,
      "outputs": [
        {
          "output_type": "stream",
          "name": "stdout",
          "text": [
            "6\n"
          ]
        }
      ]
    },
    {
      "cell_type": "markdown",
      "source": [
        "4.\tให้ตรวจสอบว่า String ที่รับเข้ามาผ่านคีย์บอร์ด เป็นตัวอักษรพิมพ์เล็ก หรือตัวอักษรพิมพ์ใหญ่ อย่างละกี่ตัว ตอบ 2 บรรทัด พิมพ์เล็ก 1 บรรทัด พิมพ์ใหญ่ 1 บรรทัด\n",
        "\n",
        "klfjslkgD;FGK;LSDKdl;gfk;\n",
        "=> 18,3"
      ],
      "metadata": {
        "id": "UAEC1_jdXjya"
      }
    },
    {
      "cell_type": "code",
      "source": [
        "input = 'klfjslkgD;FGK;LSDKdl;gfk;'\n",
        "sumupper = 0\n",
        "sumlower = 0\n",
        "for i in input:\n",
        "  if i.isupper():\n",
        "    sumupper+=1\n",
        "  elif i.islower():\n",
        "    sumlower+=1\n",
        "print(sumlower)\n",
        "print(sumupper)"
      ],
      "metadata": {
        "id": "rSYwEhjEYY8N",
        "outputId": "dffd1660-c51c-4889-9e2e-28e2adb7c9ad",
        "colab": {
          "base_uri": "https://localhost:8080/"
        }
      },
      "execution_count": null,
      "outputs": [
        {
          "output_type": "stream",
          "name": "stdout",
          "text": [
            "13\n",
            "8\n"
          ]
        }
      ]
    },
    {
      "cell_type": "markdown",
      "source": [
        "5.\tจงเขียนโปรแกรมที่หาตัวเลขระหว่าง 1000 และ 3000 ที่ทุกหลักเป็นเลขคู่ (รวม 1000 และ 3000) โดยแสดงผลในรูปแบบตัวเลขคั่นด้วย comma\n",
        "\n",
        "2000,2002,2004,2006,2008,2020,2022,2024,2026,2028,2040,2042,2044,2046,2048,2060,2062,2064,2066,2068,2080,2082,2084,2086,2088,2200,2202,2204,2206,2208,2220,2222,2224,2226,2228,2240,2242,2244,2246,2248,2260,2262,2264,2266,2268,2280,2282,2284,2286,2288,2400,2402,2404,2406,2408,2420,2422,2424,2426,2428,2440,2442,2444,2446,2448,2460,2462,2464,2466,2468,2480,2482,2484,2486,2488,2600,2602,2604,2606,2608,2620,2622,2624,2626,2628,2640,2642,2644,2646,2648,2660,2662,2664,2666,2668,2680,2682,2684,2686,2688,2800,2802,2804,2806,2808,2820,2822,2824,2826,2828,2840,2842,2844,2846,2848,2860,2862,2864,2866,2868,2880,2882,2884,2886,2888,"
      ],
      "metadata": {
        "id": "lBtvmw_sYYX_"
      }
    },
    {
      "cell_type": "code",
      "source": [
        "x = 3000\n",
        "num = 0\n",
        "cut = 0\n",
        "for i in range(1000,x+1):\n",
        "  if i % 2 == 0:\n",
        "    num = ','.join(str(i))\n",
        "    cut = num.split(',')\n",
        "    if int(cut[0]) % 2 == 0 and int(cut[1]) % 2 == 0 and int(cut[2]) % 2 == 0 and int(cut[3]) % 2 == 0 :\n",
        "      print(i, end=',')"
      ],
      "metadata": {
        "id": "VvChTQMjYqYi",
        "outputId": "02609d20-7bb9-4252-d71e-e1eee0f7e5b2",
        "colab": {
          "base_uri": "https://localhost:8080/"
        }
      },
      "execution_count": null,
      "outputs": [
        {
          "output_type": "stream",
          "name": "stdout",
          "text": [
            "2000,2002,2004,2006,2008,2020,2022,2024,2026,2028,2040,2042,2044,2046,2048,2060,2062,2064,2066,2068,2080,2082,2084,2086,2088,2200,2202,2204,2206,2208,2220,2222,2224,2226,2228,2240,2242,2244,2246,2248,2260,2262,2264,2266,2268,2280,2282,2284,2286,2288,2400,2402,2404,2406,2408,2420,2422,2424,2426,2428,2440,2442,2444,2446,2448,2460,2462,2464,2466,2468,2480,2482,2484,2486,2488,2600,2602,2604,2606,2608,2620,2622,2624,2626,2628,2640,2642,2644,2646,2648,2660,2662,2664,2666,2668,2680,2682,2684,2686,2688,2800,2802,2804,2806,2808,2820,2822,2824,2826,2828,2840,2842,2844,2846,2848,2860,2862,2864,2866,2868,2880,2882,2884,2886,2888,"
          ]
        }
      ]
    },
    {
      "cell_type": "markdown",
      "source": [
        "6.\tในคณิตศาสตร์ ตัวหารร่วมมาก หรือ ห.ร.ม. (greatest common divisor: gcd) ของจำนวนเต็มสองจำนวนซึ่งไม่เป็นศูนย์พร้อมกัน คือจำนวนเต็มที่มากที่สุดที่หารทั้งสองจำนวนลงตัว\n",
        "จงหา ห.ร.ม. ของจำนวนเต็ม 2 จำนวนที่กำหนดให้\n",
        "ข้อมูลนำเข้า\n",
        "บรรทัดแรกเพียงบรรทัดเดียว ประกอบไปด้วยจำนวนเต็มบวกสองจำนวน a และ b มีค่าไม่เกิน 9999\n",
        "ข้อมูลส่งออก\n",
        "ในบรรทัดแรกของข้อมูลส่งออก ให้แสดงค่า ห.ร.ม. ของ a และ b\n",
        "เช่น \tInput : 12 14\t\tOutput : 2\n",
        "\tInput : 7 3\t\tOutput : 1\n",
        "\n",
        "678\n",
        "345\n",
        "=> 3"
      ],
      "metadata": {
        "id": "6TCedRC8YqyU"
      }
    },
    {
      "cell_type": "code",
      "source": [
        "num1 = 678\n",
        "num2 = 345\n",
        "x = 0\n",
        "y = 0\n",
        "for i in range(1,num1):\n",
        "  if num1 % i == 0 and num2 % i == 0:\n",
        "        x = i\n",
        "print(x)"
      ],
      "metadata": {
        "id": "yrD4p2Q6Y6qr",
        "outputId": "526d9285-75ab-4d50-9b9c-28ca15597764",
        "colab": {
          "base_uri": "https://localhost:8080/"
        }
      },
      "execution_count": null,
      "outputs": [
        {
          "output_type": "stream",
          "name": "stdout",
          "text": [
            "3\n"
          ]
        }
      ]
    },
    {
      "cell_type": "markdown",
      "source": [
        "7.\tจงเขียนโปรแกรมที่คำนวณค่าของ a+aa+aaa+aaaa เมื่อรับข้อมูลเป็นตัวเลข 1 หลัก\n",
        "\n",
        "Input : 9\n",
        "\n",
        "Output : 11106 (=9+99+999+9999)\n"
      ],
      "metadata": {
        "id": "DW9riUdiY7KK"
      }
    },
    {
      "cell_type": "code",
      "source": [
        "input =str(9)\n",
        "if int(input) >= 0 and int(input) <= 9:\n",
        "  print(f'{int(input)+int(input*2)+int(input*3)+int(input*4)}' )\n",
        "else :\n",
        "  print('กรุณาใส่เลข0-9')"
      ],
      "metadata": {
        "id": "iAZlPfC4Y-GG",
        "outputId": "7dd24500-fb7b-46fa-f176-2cb734485d97",
        "colab": {
          "base_uri": "https://localhost:8080/"
        }
      },
      "execution_count": null,
      "outputs": [
        {
          "output_type": "stream",
          "name": "stdout",
          "text": [
            "11106\n"
          ]
        }
      ]
    },
    {
      "cell_type": "markdown",
      "source": [
        "8.\tแปลงเลขโรมัน เป็นเลขอารบิก เช่น MMMDCCXXIV = 3724 (ค้นหาวิธีทางทางอินเตอร์เน็ต)\n"
      ],
      "metadata": {
        "id": "G3jPCyruZAZY"
      }
    },
    {
      "cell_type": "code",
      "source": [
        "input = \"MMMDCCXXIV\"\n",
        "letter = ['M','D','C','L','X','V','I']\n",
        "numvalue = [1000,500,100,50,10,5,1]\n",
        "college = 0\n",
        "next = 0\n",
        "Sum = 0\n",
        "for i in range(len(input)):\n",
        "  for j in range(len(letter)):\n",
        "    if input[i] == letter[j]:\n",
        "      college = numvalue[j]\n",
        "    if i <= len(input)-2:\n",
        "      if input[i+1] == letter[j]:\n",
        "          next = numvalue[j]\n",
        "  if college >= next:\n",
        "        Sum += college\n",
        "  else:\n",
        "        Sum -= college\n",
        "print(Sum)\n"
      ],
      "metadata": {
        "id": "6RBWGF4IZGnc",
        "outputId": "904790f9-b1f9-41f2-abe8-fff1bdabc14d",
        "colab": {
          "base_uri": "https://localhost:8080/"
        }
      },
      "execution_count": 4,
      "outputs": [
        {
          "output_type": "stream",
          "name": "stdout",
          "text": [
            "3724\n"
          ]
        }
      ]
    },
    {
      "cell_type": "markdown",
      "source": [
        "9.\tอนุกรม Fibonacci คือ อนุกรมที่ตัวที่ 3 เป็นต้นไปเกิดจาก 2 ตัวหน้าบวกกัน จงเขียนโปรแกรมแสดงอนุกรม\n",
        "เช่น ตั้งแต่ 0-1000 คือ 0, 1, 1, 2, 3, 5, 8, 13, 21, 34, 55, 89, 144, 233, 377, 610, 987\n"
      ],
      "metadata": {
        "id": "SJBVkaFHZHKe"
      }
    },
    {
      "cell_type": "code",
      "source": [
        "ritgh = 0\n",
        "left = 1\n",
        "switch =0\n",
        "while True:\n",
        "  if switch == 0:\n",
        "    print(str(ritgh)+\",\"+str(left)+\",\"+str(ritgh+left), end=\"\")\n",
        "  else :\n",
        "    print(\",\"+str(ritgh+left),end=\"\")\n",
        "  if switch % 2 == 0:\n",
        "   ritgh = left + ritgh\n",
        "  else:\n",
        "    left = ritgh + left\n",
        "  switch += 1\n",
        "  if (ritgh+left) > 1000 :\n",
        "    break"
      ],
      "metadata": {
        "id": "Vdtc9KqSZLls",
        "outputId": "e64f4394-c088-4342-d291-dd0cad2d5405",
        "colab": {
          "base_uri": "https://localhost:8080/"
        }
      },
      "execution_count": null,
      "outputs": [
        {
          "output_type": "stream",
          "name": "stdout",
          "text": [
            "0,1,1,2,3,5,8,13,21,34,55,89,144,233,377,610,987"
          ]
        }
      ]
    },
    {
      "cell_type": "markdown",
      "source": [
        "10.\tให้สร้างโปรแกรม True Love โดยรับชื่อภาษาอังกฤษของ 2 คน จากนั้นค้นหาว่ามีตัวอักษรอยู่ในคำว่า True และ Love รวมกันกี่ตัว จากนั้นนำมาต่อกันเป็น % ตามรูป (ไม่ต้องแสดงเครื่องหมาย %)"
      ],
      "metadata": {
        "id": "1ykDG1H4ZKd4"
      }
    },
    {
      "cell_type": "code",
      "source": [
        "gf = \"Krystie Lee Yandoli\"\n",
        "bf = \"Aubrey Drake Graham\"\n",
        "gf=gf.lower()\n",
        "bf=bf.lower()\n",
        "vari_1 = ['t','r','u','e','l','o','v','e']\n",
        "vari_2 = [0,0,0,0,0,0,0,0]\n",
        "i = 0\n",
        "for i in range(len(gf)):\n",
        "  for j in range(len(vari_1)):\n",
        "    if gf[i] == vari_1[j]:\n",
        "      vari_2[j]+= 1\n",
        "for i in range(len(bf)):\n",
        "  for j in range(len(vari_1)):\n",
        "    if bf[i] == vari_1[j]:\n",
        "      vari_2[j]+= 1\n",
        "\n",
        "print(vari_1[0]+\" \"+str(vari_2[0])+\" | \"+vari_1[4]+\" \"+str(vari_2[4]))\n",
        "print(vari_1[1]+\" \"+str(vari_2[1])+\" | \"+vari_1[5]+\" \"+str(vari_2[5]))\n",
        "print(vari_1[2]+\" \"+str(vari_2[2])+\" | \"+vari_1[6]+\" \"+str(vari_2[6]))\n",
        "print(vari_1[3]+\" \"+str(vari_2[3])+\" | \"+vari_1[7]+\" \"+str(vari_2[7]))\n",
        "print(vari_2[0]+vari_2[1]+vari_2[2]+vari_2[3],end=\"\")\n",
        "print(vari_2[4]+vari_2[5]+vari_2[6]+vari_2[7])"
      ],
      "metadata": {
        "id": "syOZPpj2ZPaA",
        "outputId": "e3ffc977-f63a-48ef-96de-0166b9bbf53c",
        "colab": {
          "base_uri": "https://localhost:8080/"
        }
      },
      "execution_count": 6,
      "outputs": [
        {
          "output_type": "stream",
          "name": "stdout",
          "text": [
            "t 1 | l 2\n",
            "r 4 | o 1\n",
            "u 1 | v 0\n",
            "e 5 | e 5\n",
            "118\n"
          ]
        }
      ]
    }
  ]
}